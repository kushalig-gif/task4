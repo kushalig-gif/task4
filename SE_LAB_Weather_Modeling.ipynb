{
  "nbformat": 4,
  "nbformat_minor": 0,
  "metadata": {
    "colab": {
      "provenance": [],
      "authorship_tag": "ABX9TyNf5n6Aic9UXPZpRW+hFzVy",
      "include_colab_link": true
    },
    "kernelspec": {
      "name": "python3",
      "display_name": "Python 3"
    },
    "language_info": {
      "name": "python"
    }
  },
  "cells": [
    {
      "cell_type": "markdown",
      "metadata": {
        "id": "view-in-github",
        "colab_type": "text"
      },
      "source": [
        "<a href=\"https://colab.research.google.com/github/kushalig-gif/task4/blob/main/SE_LAB_Weather_Modeling.ipynb\" target=\"_parent\"><img src=\"https://colab.research.google.com/assets/colab-badge.svg\" alt=\"Open In Colab\"/></a>"
      ]
    },
    {
      "cell_type": "code",
      "source": [
        "# Function for temperature modeling using quadratic formula\n",
        "def Temperature_modeling(a, b, c, time):\n",
        "    temperature = a * time**2 + b * time + c\n",
        "    return temperature\n",
        "\n",
        "# Hardcoded variables\n",
        "a, b, c = 0.1, 3, 10\n",
        "time = 5\n",
        "\n",
        "# Display results\n",
        "print(\"Hard-coded variables for weather modeling\")\n",
        "print(\"Temperature for hardcoded coefficients at time\", time, \"hours:\", Temperature_modeling(a, b, c, time))\n"
      ],
      "metadata": {
        "colab": {
          "base_uri": "https://localhost:8080/"
        },
        "id": "1ldLY3F67Rpe",
        "outputId": "3c81e1bd-b853-4d15-8169-1efbda1bea30"
      },
      "execution_count": 22,
      "outputs": [
        {
          "output_type": "stream",
          "name": "stdout",
          "text": [
            "Hard-coded variables for weather modeling\n",
            "Temperature for hardcoded coefficients at time 5 hours: 27.5\n"
          ]
        }
      ]
    },
    {
      "cell_type": "code",
      "source": [
        "# Function for temperature modeling using quadratic formula\n",
        "def Temperature_modeling(a, b, c, time):\n",
        "    temperature = a * time**2 + b * time + c\n",
        "    return temperature\n",
        "\n",
        "# Get user input for coefficients\n",
        "a = float(input(\"Enter coefficient a: \"))\n",
        "b = float(input(\"Enter coefficient b: \"))\n",
        "c = float(input(\"Enter coefficient c: \"))\n",
        "time = float(input(\"Enter time in hours: \"))\n",
        "\n",
        "# Display results\n",
        "print(\"Temperature for coefficients a =\", a, \"b =\", b, \"c =\", c, \"at time\", time, \"hours:\", Temperature_modeling(a, b, c, time))\n"
      ],
      "metadata": {
        "colab": {
          "base_uri": "https://localhost:8080/"
        },
        "id": "6Y8PJxRg7YWW",
        "outputId": "4910f276-0f8e-48bf-b382-5c906bc5fdea"
      },
      "execution_count": 23,
      "outputs": [
        {
          "output_type": "stream",
          "name": "stdout",
          "text": [
            "Enter coefficient a: 12\n",
            "Enter coefficient b: 3\n",
            "Enter coefficient c: 4\n",
            "Enter time in hours: 20\n",
            "Temperature for coefficients a = 12.0 b = 3.0 c = 4.0 at time 20.0 hours: 4864.0\n"
          ]
        }
      ]
    },
    {
      "cell_type": "code",
      "source": [
        "# Function for temperature modeling using quadratic formula\n",
        "def Temperature_modeling(a, b, c, time):\n",
        "    temperature = a * time**2 + b * time + c\n",
        "    return temperature\n",
        "\n",
        "# Read coefficients from a file\n",
        "print(\"Reading data from file...\")\n",
        "with open(\"input.txt\", \"r\") as file:\n",
        "    for line in file:\n",
        "        a, b, c, time = map(float, line.split())\n",
        "        print(f\"Temperature for coefficients a={a}, b={b}, c={c} at time {time} hours: {Temperature_modeling(a, b, c, time)}\")\n"
      ],
      "metadata": {
        "colab": {
          "base_uri": "https://localhost:8080/"
        },
        "id": "4URUU4WI9y9R",
        "outputId": "d565edd9-0f61-4246-da0d-fc7428fce9e6"
      },
      "execution_count": 25,
      "outputs": [
        {
          "output_type": "stream",
          "name": "stdout",
          "text": [
            "Reading data from file...\n",
            "Temperature for coefficients a=0.1, b=2.0, c=10.0 at time 5.0 hours: 22.5\n",
            "Temperature for coefficients a=0.2, b=1.5, c=8.0 at time 3.0 hours: 14.3\n"
          ]
        }
      ]
    },
    {
      "cell_type": "code",
      "source": [
        "# Function for temperature modeling using quadratic formula\n",
        "def Temperature_modeling(a, b, c, time):\n",
        "    temperature = a * time**2 + b * time + c\n",
        "    return temperature\n",
        "\n",
        "# Single input mode\n",
        "print(\"Single Input Mode\")\n",
        "a = float(input(\"Enter coefficient a: \"))\n",
        "b = float(input(\"Enter coefficient b: \"))\n",
        "c = float(input(\"Enter coefficient c: \"))\n",
        "time = float(input(\"Enter time in hours: \"))\n",
        "\n",
        "# Display result\n",
        "print(\"Temperature for coefficients a =\", a, \"b =\", b, \"c =\", c, \"at time\", time, \"hours:\", Temperature_modeling(a, b, c, time))\n"
      ],
      "metadata": {
        "colab": {
          "base_uri": "https://localhost:8080/"
        },
        "id": "kIi6jrKZ-_rZ",
        "outputId": "99da4488-1b0f-4ae8-f7e6-204e8c988c52"
      },
      "execution_count": 26,
      "outputs": [
        {
          "output_type": "stream",
          "name": "stdout",
          "text": [
            "Single Input Mode\n",
            "Enter coefficient a: 5\n",
            "Enter coefficient b: 2\n",
            "Enter coefficient c: 8\n",
            "Enter time in hours: 17\n",
            "Temperature for coefficients a = 5.0 b = 2.0 c = 8.0 at time 17.0 hours: 1487.0\n"
          ]
        }
      ]
    },
    {
      "cell_type": "code",
      "source": [
        "# Function for temperature modeling using quadratic formula\n",
        "def Temperature_modeling(a, b, c, time):\n",
        "    temperature = a * time**2 + b * time + c\n",
        "    return temperature\n",
        "\n",
        "# Multiple input mode\n",
        "print(\"Multiple Input Mode: Reading data from file...\")\n",
        "\n",
        "# Ensure the file \"input.txt\" is uploaded to the current working directory\n",
        "try:\n",
        "    with open(\"input.txt\", \"r\") as file:\n",
        "        for line in file:\n",
        "            a, b, c, time = map(float, line.split())\n",
        "            print(f\"Temperature for coefficients a={a}, b={b}, c={c} at time {time} hours: {Temperature_modeling(a, b, c, time)}\")\n",
        "except FileNotFoundError:\n",
        "    print(\"Error: 'input.txt' file not found. Please upload the file and try again.\")\n"
      ],
      "metadata": {
        "colab": {
          "base_uri": "https://localhost:8080/"
        },
        "id": "sf4JkCUc_16h",
        "outputId": "34449632-6e7c-4811-da34-11ec32e9648d"
      },
      "execution_count": 27,
      "outputs": [
        {
          "output_type": "stream",
          "name": "stdout",
          "text": [
            "Multiple Input Mode: Reading data from file...\n",
            "Temperature for coefficients a=0.1, b=2.0, c=10.0 at time 5.0 hours: 22.5\n",
            "Temperature for coefficients a=0.2, b=1.5, c=8.0 at time 3.0 hours: 14.3\n"
          ]
        }
      ]
    }
  ]
}